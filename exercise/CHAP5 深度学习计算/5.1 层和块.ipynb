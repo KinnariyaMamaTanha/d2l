{
 "cells": [
  {
   "cell_type": "markdown",
   "metadata": {},
   "source": [
    "# Exercise 2: 实现一个块，它以两个块为参数，例如net1和net2，并返回前向传播中两个网络的串联输出。这也被称为平行块。"
   ]
  },
  {
   "cell_type": "code",
   "execution_count": null,
   "metadata": {},
   "outputs": [],
   "source": [
    "import torch\n",
    "from  torch import nn\n",
    "\n",
    "class Net1(nn.Module):\n",
    "    pass\n",
    "\n",
    "class Net2(nn.Module):\n",
    "    pass\n",
    "\n",
    "class Net(nn.Module):\n",
    "    def __init__(self):\n",
    "        self.net1 = Net1()\n",
    "        self.net2 = Net2()\n",
    "    \n",
    "    def forward(self, x: torch.Tensor):\n",
    "        o1 = self.net1(x)\n",
    "        o2 = self.net2(x)\n",
    "        o = torch.cat([o1, o2])\n",
    "        return o"
   ]
  }
 ],
 "metadata": {
  "kernelspec": {
   "display_name": "d2l",
   "language": "python",
   "name": "python3"
  },
  "language_info": {
   "name": "python",
   "version": "3.9.19"
  }
 },
 "nbformat": 4,
 "nbformat_minor": 2
}
