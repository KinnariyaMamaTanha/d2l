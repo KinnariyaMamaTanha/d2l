{
 "cells": [
  {
   "cell_type": "markdown",
   "metadata": {},
   "source": [
    "## Exercise 1: 计算pReLU激活函数的导数\n",
    "\n",
    "由于 $\\operatorname{pReLU}(x) = \\max(0, x) + \\alpha \\min(0, x)$，故\n",
    "\n",
    "$$\n",
    "\\frac{d}{dx} \\operatorname{pReLU}(x) = \n",
    "\\begin{cases}\n",
    "    1 &x \\gt 0      \\\\\n",
    "    \\alpha &x \\lt 0 \\\\\n",
    "\\end{cases} \n",
    "$$"
   ]
  },
  {
   "cell_type": "markdown",
   "metadata": {},
   "source": [
    "## Exercise 2: 证明一个仅使用ReLU（或pReLU）的多层感知机构造了一个连续的分段线性函数\n",
    "\n",
    "思路：只需证明，对于一个单变量的标量连续线性函数 $f$，$\\operatorname{ReLU} \\circ f$ 是一个分段连续线性函数"
   ]
  },
  {
   "cell_type": "markdown",
   "metadata": {},
   "source": [
    "## Exercise 3: 证明 $\\operatorname{tanh}(x) + 1 = 2 \\operatorname{sigmoid}(2x)$\n",
    "\n",
    "易证。"
   ]
  },
  {
   "cell_type": "markdown",
   "metadata": {
    "vscode": {
     "languageId": "plaintext"
    }
   },
   "source": [
    "## Exercise 4: 假设我们有一个非线性单元，将它一次应用于一个小批量的数据。这会导致什么样的问题？\n",
    "\n",
    "暂时不知道。"
   ]
  }
 ],
 "metadata": {
  "language_info": {
   "name": "python"
  }
 },
 "nbformat": 4,
 "nbformat_minor": 2
}
