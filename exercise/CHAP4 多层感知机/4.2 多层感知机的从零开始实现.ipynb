{
 "cells": [
  {
   "cell_type": "markdown",
   "metadata": {},
   "source": [
    "# Exercise 6: 如果想要构建多个超参数的搜索方法，请想出一个聪明的策略\n",
    "\n",
    "1. 冻结变量\n",
    "2. 插点尝试"
   ]
  }
 ],
 "metadata": {
  "kernelspec": {
   "display_name": "d2l",
   "language": "python",
   "name": "python3"
  },
  "language_info": {
   "name": "python",
   "version": "3.9.19"
  }
 },
 "nbformat": 4,
 "nbformat_minor": 2
}
