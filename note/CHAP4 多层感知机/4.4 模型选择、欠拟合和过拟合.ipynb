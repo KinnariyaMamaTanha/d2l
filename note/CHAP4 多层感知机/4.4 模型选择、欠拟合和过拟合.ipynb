{
 "cells": [
  {
   "cell_type": "markdown",
   "metadata": {},
   "source": [
    "# 模型选择、欠拟合和过拟合"
   ]
  },
  {
   "cell_type": "markdown",
   "metadata": {},
   "source": [
    "## 训练误差、泛化误差\n",
    "\n",
    "- **训练误差**：模型在训练数据集上计算得到的误差\n",
    "- **泛化误差**：模型应用在同样从原始样本的分布中抽取的无限多数据样本时，模型误差的期望。不可能准确算出。\n",
    "\n",
    "![](https://zh-v2.d2l.ai/_images/capacity-vs-error.svg)"
   ]
  },
  {
   "cell_type": "markdown",
   "metadata": {},
   "source": [
    "## 统计学习理论\n",
    "\n",
    "- **独立同分布假设**：假设训练数据和测试数据都是从相同的分布中独立提取的"
   ]
  }
 ],
 "metadata": {
  "language_info": {
   "name": "python"
  }
 },
 "nbformat": 4,
 "nbformat_minor": 2
}
