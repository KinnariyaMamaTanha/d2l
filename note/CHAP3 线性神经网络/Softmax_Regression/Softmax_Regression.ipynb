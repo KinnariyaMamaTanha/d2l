{
 "cells": [
  {
   "cell_type": "markdown",
   "id": "d4344a44",
   "metadata": {},
   "source": [
    "# 1 分类问题\n",
    "\n",
    "可以使用**独热编码**表示不同的类别。如有三个不同的类别，可以分别使用`(1, 0, 0)`, `(0, 1, 0)`, `(0, 0, 1)`来表示。\n",
    "\n",
    "对给定的输入，只需要求得一个概率向量$(p_1, p_2, p_3)$，$\\{p_i\\}$中最大的概率对应的类别就是推测结果。"
   ]
  },
  {
   "cell_type": "markdown",
   "id": "1e6e508e",
   "metadata": {},
   "source": [
    "# 2 网络架构\n",
    "\n",
    "为了估计所有可能类别的概率，需要定义一个多输出的模型（而不是线性回归模型中的单输出模型）。可以采用softmax回归：\n",
    "\n",
    "![](https://zh-v2.d2l.ai/_images/softmaxreg.svg)\n",
    "\n",
    "这个单层神经网络对应放射函数组：\n",
    "$$\n",
    "\\begin{split}\\begin{aligned}\n",
    "o_1 &= x_1 w_{11} + x_2 w_{12} + x_3 w_{13} + x_4 w_{14} + b_1,\\\\\n",
    "o_2 &= x_1 w_{21} + x_2 w_{22} + x_3 w_{23} + x_4 w_{24} + b_2,\\\\\n",
    "o_3 &= x_1 w_{31} + x_2 w_{32} + x_3 w_{33} + x_4 w_{34} + b_3.\n",
    "\\end{aligned}\\end{split}\n",
    "$$\n",
    "\n",
    "共4\\*3=12个变量，5\\*3个参数。向量表示为\n",
    "$$\n",
    "\\mathbf{o} = \\mathbf{W} \\mathbf{x} + \\mathbf{b}\n",
    "$$\n",
    "\n"
   ]
  },
  {
   "cell_type": "markdown",
   "id": "03a428ef",
   "metadata": {},
   "source": [
    "# 3 softmax运算\n",
    "\n",
    "由于输出$\\mathbf{o}$可能为负，还可能和不为1，不满足概率论公理。因此需要使用softmax运算进行校准：\n",
    "\n",
    "$$\n",
    "\\hat{\\mathbf{y}} = \\mathrm{softmax}(\\mathbf{o})\\quad \\text{其中}\\quad \\hat{y}_j = \\frac{\\exp(o_j)}{\\sum_k \\exp(o_k)}\n",
    "$$\n",
    "\n",
    "矢量化后即为：\n",
    "\n",
    "$$\n",
    "\\begin{split}\\begin{aligned} \\mathbf{O} &= \\mathbf{X} \\mathbf{W} + \\mathbf{b}, \\\\ \\hat{\\mathbf{Y}} & = \\mathrm{softmax}(\\mathbf{O}). \\end{aligned}\\end{split}\n",
    "$$"
   ]
  },
  {
   "cell_type": "markdown",
   "id": "d2ddad55",
   "metadata": {},
   "source": [
    "# 4 损失函数\n",
    "\n",
    "与[线性回归](../Linear_Regression/Linear_Regression.ipynb)中相同，使用最大似然估计法，需要将\n",
    "\n",
    "$$\n",
    "P(\\mathbf{Y} \\mid \\mathbf{X}) = \\prod_{i=1}^n P(\\mathbf{y}^{(i)} \\mid \\mathbf{x}^{(i)}).\n",
    "$$\n",
    "\n",
    "最大化，即最小化负对数似然：\n",
    "\n",
    "$$\n",
    "-\\log P(\\mathbf{Y} \\mid \\mathbf{X}) = \\sum_{i=1}^n -\\log P(\\mathbf{y}^{(i)} \\mid \\mathbf{x}^{(i)})\n",
    "= \\sum_{i=1}^n l(\\mathbf{y}^{(i)}, \\hat{\\mathbf{y}}^{(i)}),\n",
    "$$\n",
    "\n",
    "其中损失函数为：\n",
    "\n",
    "$$\n",
    "l(\\mathbf{y}, \\hat{\\mathbf{y}}) = - \\sum_{j=1}^q y_j \\log \\hat{y}_j.\n",
    "$$\n",
    "\n",
    "称为**交叉熵损失**，其中$\\{y_j\\}$中只有一个为1，保留了唯一一个负值的$\\log \\hat{y}_j$\n",
    "\n",
    "损失函数变形：\n",
    "\n",
    "$$\n",
    "\\begin{split}\\begin{aligned}\n",
    "l(\\mathbf{y}, \\hat{\\mathbf{y}}) &=  - \\sum_{j=1}^q y_j \\log \\frac{\\exp(o_j)}{\\sum_{k=1}^q \\exp(o_k)} \\\\\n",
    "&= \\sum_{j=1}^q y_j \\log \\sum_{k=1}^q \\exp(o_k) - \\sum_{j=1}^q y_j o_j\\\\\n",
    "&= \\log \\sum_{k=1}^q \\exp(o_k) - \\sum_{j=1}^q y_j o_j.\n",
    "\\end{aligned}\\end{split}\n",
    "$$\n",
    "\n",
    "求偏导得：\n",
    "\n",
    "$$\n",
    "\\partial_{o_j} l(\\mathbf{y}, \\hat{\\mathbf{y}}) = \\frac{\\exp(o_j)}{\\sum_{k=1}^q \\exp(o_k)} - y_j = \\mathrm{softmax}(\\mathbf{o})_j - y_j.\n",
    "$$\n",
    "\n",
    "梯度为观测值$y$和估计值$\\hat{y}$之间的差异\n",
    "\n",
    "(*推导过程参考*：https://discuss.d2l.ai/uploads/default/original/2X/c/cdd2180d23608b64bdb20d07b0da181e6ac0c48d.png)\n",
    "\n",
    "至此得到**交叉熵损失函数**定义：\n",
    "\n",
    "$$\n",
    "\\ell(\\boldsymbol{\\Theta}) = \\frac{1}{n} \\sum_{i=1}^n l\\left(\\boldsymbol y^{(i)}, \\boldsymbol {\\hat y}^{(i)}\\right ) = -\\frac{1}{n}\\sum_{j=1}^q y_j^{(i)} \\log \\hat y_j^{(i)},\n",
    "$$\n"
   ]
  },
  {
   "cell_type": "code",
   "execution_count": null,
   "id": "ea855d1d",
   "metadata": {},
   "outputs": [],
   "source": []
  }
 ],
 "metadata": {
  "kernelspec": {
   "display_name": "Python 3 (ipykernel)",
   "language": "python",
   "name": "python3"
  },
  "language_info": {
   "codemirror_mode": {
    "name": "ipython",
    "version": 3
   },
   "file_extension": ".py",
   "mimetype": "text/x-python",
   "name": "python",
   "nbconvert_exporter": "python",
   "pygments_lexer": "ipython3",
   "version": "3.9.18"
  }
 },
 "nbformat": 4,
 "nbformat_minor": 5
}
