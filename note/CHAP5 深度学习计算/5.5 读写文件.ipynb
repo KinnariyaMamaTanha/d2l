{
 "cells": [
  {
   "cell_type": "markdown",
   "metadata": {},
   "source": [
    "# 读写文件"
   ]
  },
  {
   "cell_type": "code",
   "execution_count": 2,
   "metadata": {},
   "outputs": [],
   "source": [
    "import torch\n",
    "from torch import nn\n",
    "from torch.nn import functional as F"
   ]
  },
  {
   "cell_type": "markdown",
   "metadata": {},
   "source": [
    "## 保存、加载张量\n",
    "\n",
    "使用 `torch.save` 和 `torch.load` 分别保存和加载："
   ]
  },
  {
   "cell_type": "code",
   "execution_count": 5,
   "metadata": {},
   "outputs": [
    {
     "name": "stdout",
     "output_type": "stream",
     "text": [
      "tensor([[-1.3624, -0.6662, -2.3517,  0.0261, -0.7324],\n",
      "        [ 1.8455,  0.4608, -0.3855,  1.1429, -0.3526],\n",
      "        [ 0.2578,  0.3612,  0.4851, -0.3225,  0.7457],\n",
      "        [-1.8319, -0.1821, -0.8958,  0.1574,  1.2175]])\n"
     ]
    }
   ],
   "source": [
    "x = torch.randn([4, 5])\n",
    "torch.save(x, \"x-file\")\n",
    "print(x)"
   ]
  },
  {
   "cell_type": "code",
   "execution_count": 6,
   "metadata": {},
   "outputs": [
    {
     "name": "stdout",
     "output_type": "stream",
     "text": [
      "tensor([[-1.3624, -0.6662, -2.3517,  0.0261, -0.7324],\n",
      "        [ 1.8455,  0.4608, -0.3855,  1.1429, -0.3526],\n",
      "        [ 0.2578,  0.3612,  0.4851, -0.3225,  0.7457],\n",
      "        [-1.8319, -0.1821, -0.8958,  0.1574,  1.2175]])\n"
     ]
    },
    {
     "name": "stderr",
     "output_type": "stream",
     "text": [
      "/tmp/ipykernel_553708/1252936540.py:1: FutureWarning: You are using `torch.load` with `weights_only=False` (the current default value), which uses the default pickle module implicitly. It is possible to construct malicious pickle data which will execute arbitrary code during unpickling (See https://github.com/pytorch/pytorch/blob/main/SECURITY.md#untrusted-models for more details). In a future release, the default value for `weights_only` will be flipped to `True`. This limits the functions that could be executed during unpickling. Arbitrary objects will no longer be allowed to be loaded via this mode unless they are explicitly allowlisted by the user via `torch.serialization.add_safe_globals`. We recommend you start setting `weights_only=True` for any use case where you don't have full control of the loaded file. Please open an issue on GitHub for any issues related to this experimental feature.\n",
      "  y = torch.load(\"x-file\")\n"
     ]
    }
   ],
   "source": [
    "y = torch.load(\"x-file\")\n",
    "print(y)"
   ]
  },
  {
   "cell_type": "markdown",
   "metadata": {},
   "source": [
    "也可以存储一个 tensor table，甚至字典也可以。"
   ]
  },
  {
   "cell_type": "code",
   "execution_count": 9,
   "metadata": {},
   "outputs": [
    {
     "name": "stdout",
     "output_type": "stream",
     "text": [
      "tensor([[-1.3624, -0.6662, -2.3517,  0.0261, -0.7324],\n",
      "        [ 1.8455,  0.4608, -0.3855,  1.1429, -0.3526],\n",
      "        [ 0.2578,  0.3612,  0.4851, -0.3225,  0.7457],\n",
      "        [-1.8319, -0.1821, -0.8958,  0.1574,  1.2175]])\n",
      "tensor([[-1.3624, -0.6662, -2.3517,  0.0261, -0.7324],\n",
      "        [ 1.8455,  0.4608, -0.3855,  1.1429, -0.3526],\n",
      "        [ 0.2578,  0.3612,  0.4851, -0.3225,  0.7457],\n",
      "        [-1.8319, -0.1821, -0.8958,  0.1574,  1.2175]])\n",
      "{'x': tensor([[-1.3624, -0.6662, -2.3517,  0.0261, -0.7324],\n",
      "        [ 1.8455,  0.4608, -0.3855,  1.1429, -0.3526],\n",
      "        [ 0.2578,  0.3612,  0.4851, -0.3225,  0.7457],\n",
      "        [-1.8319, -0.1821, -0.8958,  0.1574,  1.2175]]), 'y': tensor([[-1.3624, -0.6662, -2.3517,  0.0261, -0.7324],\n",
      "        [ 1.8455,  0.4608, -0.3855,  1.1429, -0.3526],\n",
      "        [ 0.2578,  0.3612,  0.4851, -0.3225,  0.7457],\n",
      "        [-1.8319, -0.1821, -0.8958,  0.1574,  1.2175]])}\n"
     ]
    },
    {
     "name": "stderr",
     "output_type": "stream",
     "text": [
      "/tmp/ipykernel_553708/327602738.py:2: FutureWarning: You are using `torch.load` with `weights_only=False` (the current default value), which uses the default pickle module implicitly. It is possible to construct malicious pickle data which will execute arbitrary code during unpickling (See https://github.com/pytorch/pytorch/blob/main/SECURITY.md#untrusted-models for more details). In a future release, the default value for `weights_only` will be flipped to `True`. This limits the functions that could be executed during unpickling. Arbitrary objects will no longer be allowed to be loaded via this mode unless they are explicitly allowlisted by the user via `torch.serialization.add_safe_globals`. We recommend you start setting `weights_only=True` for any use case where you don't have full control of the loaded file. Please open an issue on GitHub for any issues related to this experimental feature.\n",
      "  x1, y1 = torch.load(\"x-y-file\")\n",
      "/tmp/ipykernel_553708/327602738.py:7: FutureWarning: You are using `torch.load` with `weights_only=False` (the current default value), which uses the default pickle module implicitly. It is possible to construct malicious pickle data which will execute arbitrary code during unpickling (See https://github.com/pytorch/pytorch/blob/main/SECURITY.md#untrusted-models for more details). In a future release, the default value for `weights_only` will be flipped to `True`. This limits the functions that could be executed during unpickling. Arbitrary objects will no longer be allowed to be loaded via this mode unless they are explicitly allowlisted by the user via `torch.serialization.add_safe_globals`. We recommend you start setting `weights_only=True` for any use case where you don't have full control of the loaded file. Please open an issue on GitHub for any issues related to this experimental feature.\n",
      "  xy_dict1 = torch.load(\"xy-dict\")\n"
     ]
    }
   ],
   "source": [
    "torch.save([x, y], \"x-y-file\")\n",
    "x1, y1 = torch.load(\"x-y-file\")\n",
    "print(x1)\n",
    "print(y1)\n",
    "xy_dict = { \"x\": x, \"y\": y }\n",
    "torch.save(xy_dict, \"xy-dict\")\n",
    "xy_dict1 = torch.load(\"xy-dict\")\n",
    "print(xy_dict1)"
   ]
  },
  {
   "cell_type": "markdown",
   "metadata": {},
   "source": [
    "## 加载、保存模型参数"
   ]
  },
  {
   "cell_type": "code",
   "execution_count": 10,
   "metadata": {},
   "outputs": [],
   "source": [
    "class MLP(nn.Module):\n",
    "    def __init__(self):\n",
    "        super().__init__()\n",
    "        self.hidden = nn.Linear(20, 256)\n",
    "        self.output = nn.Linear(256, 10)\n",
    "\n",
    "    def forward(self, x):\n",
    "        return self.output(F.relu(self.hidden(x)))\n",
    "\n",
    "net = MLP()\n",
    "X = torch.randn(size=(2, 20))\n",
    "Y = net(X)"
   ]
  },
  {
   "cell_type": "markdown",
   "metadata": {},
   "source": [
    "使用 `torch.save` 和 `state_dict` 方法保存模型参数："
   ]
  },
  {
   "cell_type": "code",
   "execution_count": 11,
   "metadata": {},
   "outputs": [],
   "source": [
    "torch.save(net.state_dict(), \"mlp-params\")"
   ]
  },
  {
   "cell_type": "markdown",
   "metadata": {},
   "source": [
    "使用 `load_state_dict` 方法加载参数："
   ]
  },
  {
   "cell_type": "code",
   "execution_count": 12,
   "metadata": {},
   "outputs": [
    {
     "name": "stderr",
     "output_type": "stream",
     "text": [
      "/tmp/ipykernel_553708/749413520.py:2: FutureWarning: You are using `torch.load` with `weights_only=False` (the current default value), which uses the default pickle module implicitly. It is possible to construct malicious pickle data which will execute arbitrary code during unpickling (See https://github.com/pytorch/pytorch/blob/main/SECURITY.md#untrusted-models for more details). In a future release, the default value for `weights_only` will be flipped to `True`. This limits the functions that could be executed during unpickling. Arbitrary objects will no longer be allowed to be loaded via this mode unless they are explicitly allowlisted by the user via `torch.serialization.add_safe_globals`. We recommend you start setting `weights_only=True` for any use case where you don't have full control of the loaded file. Please open an issue on GitHub for any issues related to this experimental feature.\n",
      "  clone.load_state_dict(torch.load('mlp-params'))\n"
     ]
    },
    {
     "data": {
      "text/plain": [
       "MLP(\n",
       "  (hidden): Linear(in_features=20, out_features=256, bias=True)\n",
       "  (output): Linear(in_features=256, out_features=10, bias=True)\n",
       ")"
      ]
     },
     "execution_count": 12,
     "metadata": {},
     "output_type": "execute_result"
    }
   ],
   "source": [
    "clone = MLP()\n",
    "clone.load_state_dict(torch.load('mlp-params'))\n",
    "clone.eval()"
   ]
  },
  {
   "cell_type": "markdown",
   "metadata": {},
   "source": [
    "## 同时加载、保存模型参数和架构"
   ]
  },
  {
   "cell_type": "markdown",
   "metadata": {},
   "source": [
    "使用 `torch.save` 直接保存模型："
   ]
  },
  {
   "cell_type": "code",
   "execution_count": 14,
   "metadata": {},
   "outputs": [
    {
     "name": "stderr",
     "output_type": "stream",
     "text": [
      "/tmp/ipykernel_553708/2145624085.py:2: FutureWarning: You are using `torch.load` with `weights_only=False` (the current default value), which uses the default pickle module implicitly. It is possible to construct malicious pickle data which will execute arbitrary code during unpickling (See https://github.com/pytorch/pytorch/blob/main/SECURITY.md#untrusted-models for more details). In a future release, the default value for `weights_only` will be flipped to `True`. This limits the functions that could be executed during unpickling. Arbitrary objects will no longer be allowed to be loaded via this mode unless they are explicitly allowlisted by the user via `torch.serialization.add_safe_globals`. We recommend you start setting `weights_only=True` for any use case where you don't have full control of the loaded file. Please open an issue on GitHub for any issues related to this experimental feature.\n",
      "  clone2 = torch.load(\"mlp.pt\")\n"
     ]
    },
    {
     "data": {
      "text/plain": [
       "MLP(\n",
       "  (hidden): Linear(in_features=20, out_features=256, bias=True)\n",
       "  (output): Linear(in_features=256, out_features=10, bias=True)\n",
       ")"
      ]
     },
     "execution_count": 14,
     "metadata": {},
     "output_type": "execute_result"
    }
   ],
   "source": [
    "torch.save(net, \"mlp.pt\")\n",
    "clone2 = torch.load(\"mlp.pt\")\n",
    "clone2.eval()"
   ]
  }
 ],
 "metadata": {
  "kernelspec": {
   "display_name": "d2l",
   "language": "python",
   "name": "python3"
  },
  "language_info": {
   "codemirror_mode": {
    "name": "ipython",
    "version": 3
   },
   "file_extension": ".py",
   "mimetype": "text/x-python",
   "name": "python",
   "nbconvert_exporter": "python",
   "pygments_lexer": "ipython3",
   "version": "3.9.19"
  }
 },
 "nbformat": 4,
 "nbformat_minor": 2
}
