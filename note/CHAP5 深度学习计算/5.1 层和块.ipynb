{
 "cells": [
  {
   "cell_type": "markdown",
   "metadata": {},
   "source": [
    "# 层和块"
   ]
  },
  {
   "cell_type": "markdown",
   "metadata": {},
   "source": [
    "## 实现自己的 `nn.Sequential`"
   ]
  },
  {
   "cell_type": "code",
   "execution_count": 1,
   "metadata": {},
   "outputs": [],
   "source": [
    "import torch\n",
    "from torch import nn\n",
    "from torch.nn import functional as F"
   ]
  },
  {
   "cell_type": "code",
   "execution_count": null,
   "metadata": {},
   "outputs": [],
   "source": [
    "class MySequential(nn.Module):\n",
    "    def __init__(self, *args) -> None:\n",
    "        super().__init__()\n",
    "        for idx, module in enumerate(args):\n",
    "            # self._modules 是从 nn.Module 中继承来的 OrderedDict，可以保证遍历时\n",
    "            # 的顺序为添加的顺序\n",
    "            self._modules[f\"{idx}\"] = module\n",
    "\n",
    "    def forward(self, x: torch.Tensor):\n",
    "        # 遍历存储在 self._modules 中的的 modules\n",
    "        for block in self._modules.values():\n",
    "            x = block(x)\n",
    "        return x"
   ]
  },
  {
   "cell_type": "markdown",
   "metadata": {},
   "source": [
    "使用 `self._modules` 的好处：\n",
    "\n",
    "1. 遍历时默认为加入的顺序，不用额外记录\n",
    "2. 在初始化参数时，PyTorch 会在其中查找需要被初始化的子块"
   ]
  }
 ],
 "metadata": {
  "kernelspec": {
   "display_name": "d2l",
   "language": "python",
   "name": "python3"
  },
  "language_info": {
   "codemirror_mode": {
    "name": "ipython",
    "version": 3
   },
   "file_extension": ".py",
   "mimetype": "text/x-python",
   "name": "python",
   "nbconvert_exporter": "python",
   "pygments_lexer": "ipython3",
   "version": "3.9.19"
  }
 },
 "nbformat": 4,
 "nbformat_minor": 2
}
