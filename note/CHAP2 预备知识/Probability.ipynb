{
 "cells": [
  {
   "cell_type": "markdown",
   "metadata": {},
   "source": [
    "# 一、Basic"
   ]
  },
  {
   "cell_type": "markdown",
   "metadata": {},
   "source": [
    "## 1.1 大数定理"
   ]
  },
  {
   "cell_type": "markdown",
   "metadata": {},
   "source": [
    "导入必要包"
   ]
  },
  {
   "cell_type": "code",
   "execution_count": null,
   "metadata": {},
   "outputs": [],
   "source": [
    "%matplotlib inline\n",
    "import torch\n",
    "from torch.distributions import multinomial # 从概率分布包中导入多项分布\n",
    "from d2l import torch as d2l"
   ]
  },
  {
   "cell_type": "markdown",
   "metadata": {},
   "source": [
    "多项分布(multionmial distribution)：将概率分配给一些离散选择的分布\n",
    "\n",
    "下模拟掷色子："
   ]
  },
  {
   "cell_type": "code",
   "execution_count": null,
   "metadata": {},
   "outputs": [],
   "source": [
    "fair_probs = torch.ones(6) / 6 # 提供概率分布张量\n",
    "multinomial.Multinomial(1, fair_probs).sample() # sample()方法根据提供的概率和总模拟次数total_count产生一个可能的样本\n",
    "# 可以将total_count参数赋其它的值n，以模拟n次投掷\n",
    "multinomial.Multinomial(1000, fair_probs).sample() / 1000 # 模拟投掷1000次的概率\n",
    "fair_probs - multinomial.Multinomial(1000, fair_probs).sample() / 1000 # 计算概率误差"
   ]
  },
  {
   "cell_type": "markdown",
   "metadata": {},
   "source": [
    "`sample()`方法也可以接受一个可迭代的`sample_shape`参数，表示产生的样本总数"
   ]
  },
  {
   "cell_type": "code",
   "execution_count": null,
   "metadata": {},
   "outputs": [],
   "source": [
    "multinomial.Multinomial(1, fair_probs).sample((100,)) # 共100组模拟掷色子实验，每组扔1次，返回一个规模为100*6的张量（6为概率张量的大小）\n",
    "multinomial.Multinomial(1, fair_probs).sample((100, 100)) # 对上一排中的实验重复进行100次"
   ]
  },
  {
   "cell_type": "markdown",
   "metadata": {},
   "source": [
    "进行多组模拟并绘图"
   ]
  },
  {
   "cell_type": "code",
   "execution_count": null,
   "metadata": {},
   "outputs": [],
   "source": [
    "counts = multinomial.Multinomial(100, fair_probs).sample((500,)) # 进行500组模拟，每组实验100次\n",
    "cum_counts = counts.cumsum(dim=0) # 累次相加，计算所有组中获得同一结果的总数\n",
    "estimates = cum_counts / cum_counts.sum(dim=1, keepdim=True) # 计算模拟概率。keepdim参数使返回的张量（原本将会降维）保持维数\n",
    "\n",
    "d2l.set_figsize((6, 4.5))\n",
    "for i in range(6):\n",
    "    d2l.plt.plot(estimates[:, i].numpy(),label=(\"P(die=\" + str(i + 1) + \")\"))\n",
    "d2l.plt.axhline(y=0.167, color='black', linestyle='dashed') \n",
    "d2l.plt.gca().set_xlabel('Groups of experiments')\n",
    "d2l.plt.gca().set_ylabel('Estimated probability')\n",
    "d2l.plt.legend()"
   ]
  },
  {
   "cell_type": "markdown",
   "metadata": {},
   "source": [
    "# 二、定理"
   ]
  },
  {
   "cell_type": "markdown",
   "metadata": {},
   "source": [
    "1. **贝叶斯定理**：\n",
    "$$\n",
    "P(A \\mid B) = \\frac{P(B \\mid A) P(A)}{P(B)}.\n",
    "$$\n",
    "来源于\n",
    "$$\n",
    "P(A \\cap B) = P(A \\mid B) * P(B) = P(B \\mid A) * P(A)\n",
    "$$"
   ]
  },
  {
   "cell_type": "markdown",
   "metadata": {},
   "source": [
    "2. **求和法则**：\n",
    "$$\n",
    "P(B) = \\sum_{A} P(A \\cap B)\n",
    "$$"
   ]
  },
  {
   "cell_type": "markdown",
   "metadata": {},
   "source": [
    "3. **期望**：\n",
    "$$\n",
    "E[X] = \\sum_{x} x P(X = x).\n",
    "$$\n",
    "当$f(x)$的输入为从分布$P$中抽取的随机变量时，$f(x)$的期望值为：\n",
    "$$\n",
    "E_{x \\sim P}[f(x)] = \\sum_x f(x) P(x).\n",
    "$$"
   ]
  },
  {
   "cell_type": "markdown",
   "metadata": {},
   "source": [
    "4. 方差：\n",
    "$$\n",
    "\\mathrm{Var}[X] = E\\left[(X - E[X])^2\\right] =\n",
    "E[X^2] - E[X]^2.\n",
    "$$"
   ]
  },
  {
   "cell_type": "markdown",
   "metadata": {},
   "source": [
    "5. **马尔可夫链**：简要介绍参考[知乎专栏](https://zhuanlan.zhihu.com/p/448575579)"
   ]
  },
  {
   "cell_type": "markdown",
   "metadata": {},
   "source": [
    "# 三、分布"
   ]
  },
  {
   "cell_type": "code",
   "execution_count": null,
   "metadata": {},
   "outputs": [],
   "source": [
    "%matplotlib inline\n",
    "from math import erf, factorial\n",
    "import torch\n",
    "from IPython import display\n",
    "from d2l import torch as d2l\n",
    "\n",
    "torch.pi = torch.acos(torch.zeros(1)) * 2  # Define pi in torch"
   ]
  },
  {
   "cell_type": "markdown",
   "metadata": {},
   "source": [
    "## 3.1 伯努利分布"
   ]
  },
  {
   "cell_type": "markdown",
   "metadata": {},
   "source": [
    "1. 可视化"
   ]
  },
  {
   "cell_type": "code",
   "execution_count": null,
   "metadata": {},
   "outputs": [],
   "source": [
    "p = 0.3\n",
    "\n",
    "d2l.set_figsize()\n",
    "d2l.plt.stem([0, 1], [1 - p, p], use_line_collection=True)\n",
    "d2l.plt.xlabel('x')\n",
    "d2l.plt.ylabel('p.m.f.')\n",
    "d2l.plt.show()"
   ]
  },
  {
   "cell_type": "markdown",
   "metadata": {},
   "source": [
    "2. 代码实现："
   ]
  },
  {
   "cell_type": "code",
   "execution_count": null,
   "metadata": {},
   "outputs": [],
   "source": [
    "1*(torch.rand(10, 10) < p)"
   ]
  },
  {
   "cell_type": "markdown",
   "metadata": {},
   "source": [
    "## 3.2 离散均匀分布"
   ]
  },
  {
   "cell_type": "markdown",
   "metadata": {},
   "source": [
    "1. 可视化"
   ]
  },
  {
   "cell_type": "code",
   "execution_count": null,
   "metadata": {},
   "outputs": [],
   "source": [
    "n = 5\n",
    "\n",
    "d2l.plt.stem([i+1 for i in range(n)], n*[1 / n], use_line_collection=True)\n",
    "d2l.plt.xlabel('x')\n",
    "d2l.plt.ylabel('p.m.f.')\n",
    "d2l.plt.show()"
   ]
  },
  {
   "cell_type": "markdown",
   "metadata": {},
   "source": [
    "2. 代码实现"
   ]
  },
  {
   "cell_type": "code",
   "execution_count": null,
   "metadata": {},
   "outputs": [],
   "source": [
    "torch.randint(1, n, size=(10, 10))"
   ]
  },
  {
   "cell_type": "markdown",
   "metadata": {},
   "source": [
    "## 3.3 连续均匀分布"
   ]
  },
  {
   "cell_type": "markdown",
   "metadata": {},
   "source": [
    "1. 可视化"
   ]
  },
  {
   "cell_type": "code",
   "execution_count": null,
   "metadata": {},
   "outputs": [],
   "source": [
    "a, b = 1, 3\n",
    "\n",
    "x = torch.arange(0, 4, 0.01)\n",
    "p = (x > a).type(torch.float32)*(x < b).type(torch.float32)/(b-a)\n",
    "d2l.plot(x, p, 'x', 'p.d.f.')"
   ]
  },
  {
   "cell_type": "markdown",
   "metadata": {},
   "source": [
    "2. 代码实现"
   ]
  },
  {
   "cell_type": "code",
   "execution_count": null,
   "metadata": {},
   "outputs": [],
   "source": [
    "(b - a) * torch.rand(10, 10) + a"
   ]
  },
  {
   "cell_type": "markdown",
   "metadata": {},
   "source": [
    "## 3.4 二项分布"
   ]
  },
  {
   "cell_type": "markdown",
   "metadata": {},
   "source": [
    "1. 可视化"
   ]
  },
  {
   "cell_type": "code",
   "execution_count": null,
   "metadata": {},
   "outputs": [],
   "source": [
    "n, p = 10, 0.2\n",
    "\n",
    "# Compute binomial coefficient\n",
    "def binom(n, k):\n",
    "    comb = 1\n",
    "    for i in range(min(k, n - k)):\n",
    "        comb = comb * (n - i) // (i + 1)\n",
    "    return comb\n",
    "\n",
    "pmf = torch.tensor([p**i * (1-p)**(n - i) * binom(n, i) for i in range(n + 1)])\n",
    "\n",
    "d2l.plt.stem([i for i in range(n + 1)], pmf, use_line_collection=True)\n",
    "d2l.plt.xlabel('x')\n",
    "d2l.plt.ylabel('p.m.f.')\n",
    "d2l.plt.show()"
   ]
  },
  {
   "cell_type": "markdown",
   "metadata": {},
   "source": [
    "2. 代码实现"
   ]
  },
  {
   "cell_type": "code",
   "execution_count": null,
   "metadata": {},
   "outputs": [],
   "source": [
    "m = torch.distributions.binomial.Binomial(n, p)\n",
    "m.sample(sample_shape=(10, 10))"
   ]
  },
  {
   "cell_type": "markdown",
   "metadata": {},
   "source": [
    "## 3.5 泊松分布"
   ]
  },
  {
   "cell_type": "markdown",
   "metadata": {},
   "source": [
    "1. 可视化"
   ]
  },
  {
   "cell_type": "code",
   "execution_count": null,
   "metadata": {},
   "outputs": [],
   "source": [
    "lam = 5.0\n",
    "\n",
    "xs = [i for i in range(20)]\n",
    "pmf = torch.tensor([torch.exp(torch.tensor(-lam)) * lam**k\n",
    "                    / factorial(k) for k in xs])\n",
    "\n",
    "d2l.plt.stem(xs, pmf, use_line_collection=True)\n",
    "d2l.plt.xlabel('x')\n",
    "d2l.plt.ylabel('p.m.f.')\n",
    "d2l.plt.show()"
   ]
  },
  {
   "cell_type": "markdown",
   "metadata": {},
   "source": [
    "2. 代码实现"
   ]
  },
  {
   "cell_type": "code",
   "execution_count": null,
   "metadata": {},
   "outputs": [],
   "source": [
    "m = torch.distributions.poisson.Poisson(lam)\n",
    "m.sample(sample_shape=(10, 10))"
   ]
  },
  {
   "cell_type": "markdown",
   "metadata": {},
   "source": [
    "## 3.6 高斯分布(正态分布)"
   ]
  },
  {
   "cell_type": "markdown",
   "metadata": {},
   "source": [
    "1. 可视化"
   ]
  },
  {
   "cell_type": "code",
   "execution_count": null,
   "metadata": {},
   "outputs": [],
   "source": [
    "p = 0.2\n",
    "ns = [1, 10, 100, 1000]\n",
    "d2l.plt.figure(figsize=(10, 3))\n",
    "for i in range(4):\n",
    "    n = ns[i]\n",
    "    pmf = torch.tensor([p**i * (1-p)**(n-i) * binom(n, i)\n",
    "                        for i in range(n + 1)])\n",
    "    d2l.plt.subplot(1, 4, i + 1)\n",
    "    d2l.plt.stem([(i - n*p)/torch.sqrt(torch.tensor(n*p*(1 - p)))\n",
    "                  for i in range(n + 1)], pmf,\n",
    "                 use_line_collection=True)\n",
    "    d2l.plt.xlim([-4, 4])\n",
    "    d2l.plt.xlabel('x')\n",
    "    d2l.plt.ylabel('p.m.f.')\n",
    "    d2l.plt.title(\"n = {}\".format(n))\n",
    "d2l.plt.show()\n",
    "\n",
    "mu, sigma = 0, 1\n",
    "\n",
    "x = torch.arange(-3, 3, 0.01)\n",
    "p = 1 / torch.sqrt(2 * torch.pi * sigma**2) * torch.exp(\n",
    "    -(x - mu)**2 / (2 * sigma**2))\n",
    "\n",
    "d2l.plot(x, p, 'x', 'p.d.f.')"
   ]
  },
  {
   "cell_type": "markdown",
   "metadata": {},
   "source": [
    "2. 代码实现"
   ]
  },
  {
   "cell_type": "code",
   "execution_count": null,
   "metadata": {},
   "outputs": [],
   "source": [
    "torch.normal(mu, sigma, size=(10, 10))"
   ]
  }
 ],
 "metadata": {
  "kernelspec": {
   "display_name": "d2l",
   "language": "python",
   "name": "python3"
  },
  "language_info": {
   "codemirror_mode": {
    "name": "ipython",
    "version": 3
   },
   "file_extension": ".py",
   "mimetype": "text/x-python",
   "name": "python",
   "nbconvert_exporter": "python",
   "pygments_lexer": "ipython3",
   "version": "3.9.18"
  }
 },
 "nbformat": 4,
 "nbformat_minor": 2
}
