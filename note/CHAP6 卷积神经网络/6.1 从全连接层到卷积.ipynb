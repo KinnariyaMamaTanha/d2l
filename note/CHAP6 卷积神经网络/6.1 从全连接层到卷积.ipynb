{
 "cells": [
  {
   "cell_type": "markdown",
   "metadata": {},
   "source": [
    "# 从全连接层到卷积"
   ]
  },
  {
   "cell_type": "markdown",
   "metadata": {},
   "source": [
    "由于在图像处理中具有**平移不变性**和**局部性**，故可以从全连接层推导出卷积结构：\n",
    "\n",
    "设图像 $\\mathbf{X}$ 对应了一个 hidden state $\\mathbf{H}$，它们都是二维的，用全连接层表示其关系就是：\n",
    "\n",
    "$$\n",
    "\\begin{split}\\begin{aligned} \\left[\\mathbf{H}\\right]_{i, j} &= [\\mathbf{U}]_{i, j} + \\sum_k \\sum_l[\\mathsf{W}]_{i, j, k, l}  [\\mathbf{X}]_{k, l}\\\\ &=  [\\mathbf{U}]_{i, j} +\n",
    "\\sum_a \\sum_b [\\mathsf{V}]_{i, j, a, b}  [\\mathbf{X}]_{i+a, j+b}.\\end{aligned}\\end{split}\n",
    "$$\n",
    "\n",
    "这里 $\\mathbf{V}$ 仅仅只是为了消去 $j, k$ 而作出的形式上的变化。\n",
    "\n",
    "从**平移不变性**可以得到：检测对象在输入 $\\mathbf{X}$ 中的偏移，应该仅导致隐藏表示中 $\\mathbf{H}$ 的偏移；亦即，$\\mathsf{V}, \\mathbf{U}$ 与 $i,j$ 无关。那么就有：\n",
    "\n",
    "$$\n",
    "[\\mathbf{H}]_{i, j} = u + \\sum_a\\sum_b [\\mathbf{V}]_{a, b} [\\mathbf{X}]_{i+a, j+b}.\n",
    "$$\n",
    "\n",
    "这就是**卷积**，使用一个固定的偏置项 $u$ 和 $[\\mathbf{V}]_{a,b}$ 来对像素 $[\\mathbf{X}]_{i,j}$ 附近的像素 $[\\mathbf{X}]_{i+a,j+b}$ 进行信息整合。\n",
    "\n",
    "又从**局部性**可知，上述卷积只需要在像素点附近进行处理即可，而不是整张图像，那么距离 $(i,j)$ 处更远的点就不应该被考虑，亦即当 $(a,b)$ 足够大时，应该有 $[\\mathbf{V}]_{a,b}=0$\n",
    "\n",
    "$$\n",
    "[\\mathbf{H}]_{i, j} = u + \\sum_{a = -\\Delta}^{\\Delta} \\sum_{b = -\\Delta}^{\\Delta} [\\mathbf{V}]_{a, b}  [\\mathbf{X}]_{i+a, j+b}.\n",
    "$$\n",
    "\n",
    "另外，实际上*卷积*是错误的叫法，更正确的叫法为*互相关运算（cross-correlation）*"
   ]
  }
 ],
 "metadata": {
  "language_info": {
   "name": "python"
  }
 },
 "nbformat": 4,
 "nbformat_minor": 2
}
